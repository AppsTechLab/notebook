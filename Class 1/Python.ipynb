{
 "cells": [
  {
   "cell_type": "markdown",
   "id": "b57c19d6-df5d-4fd0-a086-263428a59489",
   "metadata": {},
   "source": [
    "# PYTHON LESSONS\n",
    "\n",
    "### Outline\n",
    "\n",
    "* Introduction \n",
    "* Python Syntax, data types, Operators\n",
    "* Conditional Statements and Loops\n",
    "* Functions, Lambdas and Classes\n",
    "* Pandas and Numpy"
   ]
  },
  {
   "cell_type": "markdown",
   "id": "6c160402-ad17-4fb4-9178-339e80986f5b",
   "metadata": {},
   "source": [
    "<h1 style=\"color:red;\"><b> Data Types"
   ]
  },
  {
   "cell_type": "markdown",
   "id": "635b9008-fd65-4c6c-8586-79e0e2b3d071",
   "metadata": {},
   "source": [
    "Numeric Types:\t`int`, `float`, `complex`<br>\n",
    "Boolean Type:\t`bool`<br>\n",
    "Text Type:\t`str` <br>\n",
    "Sequence Types:\t`list`, `tuple`, `range`<br>\n",
    "Mapping Type:\t`dict`<br>\n",
    "Set Types:\t`set`, `frozenset`<br>\n",
    "Binary Types:\t`bytes`, `bytearray`, `memoryview`<br>\n",
    "None Type:\t`NoneType`<br>"
   ]
  },
  {
   "cell_type": "markdown",
   "id": "74b7246a-5a20-4a94-a8b4-5216c778462d",
   "metadata": {
    "tags": []
   },
   "source": [
    "## Working with Data Types Examples and Exercises"
   ]
  },
  {
   "cell_type": "markdown",
   "id": "499f865b-8d62-46de-a7aa-ea486baaf09e",
   "metadata": {
    "tags": []
   },
   "source": [
    "## A. Intergers"
   ]
  },
  {
   "cell_type": "code",
   "execution_count": 71,
   "id": "ee856a84-c641-426a-a6fe-cb952214313f",
   "metadata": {
    "collapsed": true,
    "jupyter": {
     "outputs_hidden": true
    },
    "tags": []
   },
   "outputs": [
    {
     "name": "stdout",
     "output_type": "stream",
     "text": [
      "1 , 2.8 , 1j\n"
     ]
    }
   ],
   "source": [
    "x = 1    # int\n",
    "y = 2.8  # float\n",
    "z = 1j   # complex\n",
    "\n",
    "print(x,\",\",y,\",\",z)"
   ]
  },
  {
   "cell_type": "code",
   "execution_count": 75,
   "id": "8eb5f2f0-a3c4-42c2-a740-00ff86574bd1",
   "metadata": {
    "collapsed": true,
    "jupyter": {
     "outputs_hidden": true,
     "source_hidden": true
    },
    "tags": []
   },
   "outputs": [
    {
     "name": "stdout",
     "output_type": "stream",
     "text": [
      "3\n"
     ]
    }
   ],
   "source": [
    "# random numbers\n",
    "\n",
    "import random\n",
    "\n",
    "print(random.randrange(1, 18))"
   ]
  },
  {
   "cell_type": "code",
   "execution_count": 78,
   "id": "41afd2e8-7490-464a-8f7b-3e1aa6267b63",
   "metadata": {
    "collapsed": true,
    "jupyter": {
     "outputs_hidden": true,
     "source_hidden": true
    },
    "tags": []
   },
   "outputs": [
    {
     "name": "stdout",
     "output_type": "stream",
     "text": [
      "1.0 , 2 , 4.2 , 3\n"
     ]
    }
   ],
   "source": [
    "# Castings\n",
    "\n",
    "x = float(1)  # from int to float   \n",
    "y = int(2.8)   # from float to int\n",
    "w = float(\"4.2\") # from string to float\n",
    "z = int(\"3\") # from string to int\n",
    "\n",
    "print(x,\",\",y,\",\",w,\",\", z)"
   ]
  },
  {
   "cell_type": "markdown",
   "id": "255bda8f-5c8e-445e-bf5d-17caa9269013",
   "metadata": {},
   "source": [
    "## B. Boolean (True or False)"
   ]
  },
  {
   "cell_type": "code",
   "execution_count": 82,
   "id": "316a3dca-53fa-4820-b2ba-069b5816f3f1",
   "metadata": {
    "collapsed": true,
    "jupyter": {
     "outputs_hidden": true,
     "source_hidden": true
    },
    "tags": []
   },
   "outputs": [
    {
     "name": "stdout",
     "output_type": "stream",
     "text": [
      "True\n",
      "False\n",
      "False\n"
     ]
    }
   ],
   "source": [
    "# Conditions always arrive to true or false\n",
    "print(10 > 9)\n",
    "print(10 == 9)\n",
    "print(10 < 9)\n",
    "\n",
    "# This concept is used to "
   ]
  },
  {
   "cell_type": "markdown",
   "id": "d754cafd-ef59-4979-8122-a41fa6734c0e",
   "metadata": {},
   "source": [
    "## C. Strings"
   ]
  },
  {
   "cell_type": "code",
   "execution_count": 50,
   "id": "e1b53270-7bd5-4654-a8f3-52548dcbb45d",
   "metadata": {
    "collapsed": true,
    "jupyter": {
     "outputs_hidden": true,
     "source_hidden": true
    },
    "tags": []
   },
   "outputs": [
    {
     "name": "stdout",
     "output_type": "stream",
     "text": [
      "hello\n",
      "I am Nema and I'm teaching Python to the next ML and NLU engineers in Cameroon\n"
     ]
    }
   ],
   "source": [
    "string_a = \"hello\"\n",
    "string_b = \"\"\"I am Nema and I'm teaching Python to the next ML and NLU engineers in Cameroon\"\"\"\n",
    "\n",
    "print(string_a)\n",
    "print(string_b)"
   ]
  },
  {
   "cell_type": "markdown",
   "id": "7381f569-c774-49a9-89fe-49996f11af07",
   "metadata": {
    "jupyter": {
     "source_hidden": true
    },
    "tags": []
   },
   "source": [
    "### a. Strings as Arrays"
   ]
  },
  {
   "cell_type": "code",
   "execution_count": 40,
   "id": "4dc671d2-cbf4-4ed2-8461-b4d70525dfd5",
   "metadata": {
    "collapsed": true,
    "jupyter": {
     "outputs_hidden": true,
     "source_hidden": true
    },
    "tags": []
   },
   "outputs": [
    {
     "name": "stdout",
     "output_type": "stream",
     "text": [
      "h\n",
      "a\n",
      "l\n"
     ]
    }
   ],
   "source": [
    "print(string_a[0])\n",
    "print(string_b[10])"
   ]
  },
  {
   "cell_type": "markdown",
   "id": "612d75c5-3e00-43e9-aa24-b21b4dbed147",
   "metadata": {
    "jupyter": {
     "source_hidden": true
    },
    "tags": []
   },
   "source": [
    "### b. Looping and String lengths"
   ]
  },
  {
   "cell_type": "code",
   "execution_count": 44,
   "id": "cc791061-a53f-4968-af7f-2598c3d5ae69",
   "metadata": {
    "collapsed": true,
    "jupyter": {
     "outputs_hidden": true,
     "source_hidden": true
    },
    "tags": []
   },
   "outputs": [
    {
     "name": "stdout",
     "output_type": "stream",
     "text": [
      "h\n",
      "e\n",
      "l\n",
      "l\n",
      "o\n"
     ]
    },
    {
     "data": {
      "text/plain": [
       "78"
      ]
     },
     "execution_count": 44,
     "metadata": {},
     "output_type": "execute_result"
    }
   ],
   "source": [
    "for char in string_a:\n",
    "    print(char)\n",
    "\n",
    "len(string_b)"
   ]
  },
  {
   "cell_type": "markdown",
   "id": "5fa7db65-4d6c-4a2f-90d9-c30f400d4f01",
   "metadata": {
    "jupyter": {
     "source_hidden": true
    },
    "tags": []
   },
   "source": [
    "### c. Splicing, checking, String formatting and other methods"
   ]
  },
  {
   "cell_type": "code",
   "execution_count": 58,
   "id": "bb970e31-ab85-4957-8179-42173e1309a2",
   "metadata": {
    "collapsed": true,
    "jupyter": {
     "outputs_hidden": true,
     "source_hidden": true
    },
    "tags": []
   },
   "outputs": [
    {
     "data": {
      "text/plain": [
       "'llo'"
      ]
     },
     "execution_count": 58,
     "metadata": {},
     "output_type": "execute_result"
    }
   ],
   "source": [
    "# splicing: first index = 0, includes the first index not the last\n",
    "\n",
    "#string_b[5:9]\n",
    "#string_b[:5]\n",
    "string_a[-3:]"
   ]
  },
  {
   "cell_type": "code",
   "execution_count": 60,
   "id": "d671f5f3-b01d-49a7-b90c-45b8330a8ef1",
   "metadata": {
    "collapsed": true,
    "jupyter": {
     "outputs_hidden": true,
     "source_hidden": true
    },
    "tags": []
   },
   "outputs": [
    {
     "name": "stdout",
     "output_type": "stream",
     "text": [
      "The first string is: hello\n"
     ]
    }
   ],
   "source": [
    "# String formating\n",
    "\n",
    "print(f\"The first string is: {string_a}\")\n",
    "print(f\"Modifying string A to uppercase, we get: {string_a.upper()}\")\n",
    "print(f\"As lower case: {string_a.lower()}\")"
   ]
  },
  {
   "cell_type": "code",
   "execution_count": 64,
   "id": "d55eb6bc-bf94-429e-9d7b-f77511c35f29",
   "metadata": {
    "collapsed": true,
    "jupyter": {
     "outputs_hidden": true,
     "source_hidden": true
    },
    "tags": []
   },
   "outputs": [
    {
     "data": {
      "text/plain": [
       "'hello Shrina'"
      ]
     },
     "execution_count": 64,
     "metadata": {},
     "output_type": "execute_result"
    }
   ],
   "source": [
    "# Concate String\n",
    "\n",
    "# string_x = \"Jenifer\"\n",
    "string_x = \"Shrina\"\n",
    "string_a + \" \" + string_x"
   ]
  },
  {
   "cell_type": "code",
   "execution_count": 68,
   "id": "9d615a81-6a00-4629-a974-c8fd748f0d23",
   "metadata": {
    "collapsed": true,
    "jupyter": {
     "outputs_hidden": true,
     "source_hidden": true
    },
    "tags": []
   },
   "outputs": [
    {
     "name": "stdout",
     "output_type": "stream",
     "text": [
      "String B contains word \"Cameroon\" \n",
      "String B contains word 'Cameroon' \n"
     ]
    }
   ],
   "source": [
    "# check word in String\n",
    "\n",
    "if \"Cameroon\" in string_b:\n",
    "    print(\"String B contains word \\\"Cameroon\\\" \")\n",
    "    print(\"String B contains word 'Cameroon' \")"
   ]
  },
  {
   "cell_type": "markdown",
   "id": "9e98e7a2-a253-4820-b16a-43ef4f1db8ca",
   "metadata": {},
   "source": [
    "<h3 style=\"color: pink;\"><b>Ex: String Exercise "
   ]
  },
  {
   "cell_type": "markdown",
   "id": "db19c906-79da-4a70-9d9d-57404a44288e",
   "metadata": {
    "jupyter": {
     "source_hidden": true
    },
    "tags": []
   },
   "source": [
    "In this exercise you will have to check if a word exist in your sentence.\n",
    "1. declare a string variable, the variable should hold a sentence.\n",
    "2. declare another variable which will contain the word to be checked\n",
    "3. print a string in the form _'String x contains word: `word` '_ or _'String x does not contain word: `word` '_"
   ]
  },
  {
   "cell_type": "code",
   "execution_count": null,
   "id": "bf16c248-872b-4b33-b7ea-f6283113f7cd",
   "metadata": {
    "jupyter": {
     "source_hidden": true
    },
    "tags": []
   },
   "outputs": [],
   "source": []
  },
  {
   "cell_type": "markdown",
   "id": "49d02e9f-8e6d-43da-a736-5c8efc941614",
   "metadata": {},
   "source": [
    "# List, Tupples, Sets and Dictionaries"
   ]
  },
  {
   "cell_type": "markdown",
   "id": "64e7d0ae-9839-4604-b6ba-f12d90e0d23d",
   "metadata": {
    "jupyter": {
     "source_hidden": true
    },
    "tags": []
   },
   "source": [
    "### Def: These are the four build in data types in python used to store collections of data\n",
    "\n",
    "* List is a collection which is ordered and changeable. Allows duplicate members.\n",
    "* Tuple is a collection which is ordered and unchangeable. Allows duplicate members.\n",
    "* Set is a collection which is unordered, unchangeable*, and unindexed. No duplicate members.\n",
    "* Dictionary is a collection which is ordered** and changeable. No duplicate members"
   ]
  },
  {
   "cell_type": "markdown",
   "id": "a7b9dcff-7a36-46ce-9459-f336c5ef0b59",
   "metadata": {
    "jupyter": {
     "source_hidden": true
    },
    "tags": []
   },
   "source": [
    "## 1. Lists\n",
    "\n",
    "- List items can be ordered, changed (not inmutable), and duplicated\n",
    "- index starts from 0, [0,1,2]\n",
    "- <class 'list'>"
   ]
  },
  {
   "cell_type": "code",
   "execution_count": 98,
   "id": "cd9d3f09-6e7d-4f56-96f2-90c87b591c36",
   "metadata": {},
   "outputs": [],
   "source": [
    "interns_list = [\"Shrina\",\"Presil\",\"Cabriel\",\"Jenifer\",\"Elien\"] # subject to corrections\n",
    "mixed_list = [\"abc\", 34, True, 40, \"male\"]"
   ]
  },
  {
   "cell_type": "code",
   "execution_count": 84,
   "id": "8e5db017-8f30-43d2-9a5a-3c7eb8d9a090",
   "metadata": {},
   "outputs": [
    {
     "data": {
      "text/plain": [
       "5"
      ]
     },
     "execution_count": 84,
     "metadata": {},
     "output_type": "execute_result"
    }
   ],
   "source": [
    "# length\n",
    "\n",
    "len(interns_list)"
   ]
  },
  {
   "cell_type": "code",
   "execution_count": 94,
   "id": "10405c56-db18-4105-bc86-2159ede278b0",
   "metadata": {},
   "outputs": [
    {
     "data": {
      "text/plain": [
       "'Presil'"
      ]
     },
     "execution_count": 94,
     "metadata": {},
     "output_type": "execute_result"
    }
   ],
   "source": [
    "# accessing list items\n",
    "\n",
    "# interns_list[4]\n",
    "interns_list[1]\n",
    "# interns_list[3]\n",
    "# interns_list[0]\n",
    "# interns_list[2:4]\n",
    "# interns_list[-1]\n",
    "# interns_list[:3]"
   ]
  },
  {
   "cell_type": "code",
   "execution_count": 104,
   "id": "57fa45dd-3cbd-4b63-bd33-4711b0f55cd7",
   "metadata": {},
   "outputs": [
    {
     "data": {
      "text/plain": [
       "['abc', 34, 'Nema', 50, 'engineers']"
      ]
     },
     "execution_count": 104,
     "metadata": {},
     "output_type": "execute_result"
    }
   ],
   "source": [
    "# Changing Items value\n",
    "\n",
    "# mixed_list[2] = \"Nema\"\n",
    "# mixed_list[3:5] = [50,\"engineers\"]\n",
    "mixed_list"
   ]
  },
  {
   "cell_type": "markdown",
   "id": "9010285b-8e65-4fb9-ba83-3dd60f4c56dc",
   "metadata": {},
   "source": [
    "### Adding items to and removing items from list \n",
    "* append()\n",
    "* insert()\n",
    "* extend()"
   ]
  },
  {
   "cell_type": "code",
   "execution_count": 106,
   "id": "d40df594-69cb-4cd6-980d-885b1060f063",
   "metadata": {},
   "outputs": [
    {
     "data": {
      "text/plain": [
       "['Shrina', 'Presil', 'Cabriel', 'Jenifer', 'Elien', 'anotherIntern']"
      ]
     },
     "execution_count": 106,
     "metadata": {},
     "output_type": "execute_result"
    }
   ],
   "source": [
    "# using append, adds to the end of the list\n",
    "interns_list.append(\"anotherIntern\")\n",
    "interns_list"
   ]
  },
  {
   "cell_type": "code",
   "execution_count": 107,
   "id": "e21872db-ed04-4b9b-a705-b08114c652f3",
   "metadata": {
    "collapsed": true,
    "jupyter": {
     "outputs_hidden": true
    },
    "tags": []
   },
   "outputs": [
    {
     "data": {
      "text/plain": [
       "['Shrina',\n",
       " 'anotherInternA',\n",
       " 'Presil',\n",
       " 'Cabriel',\n",
       " 'Jenifer',\n",
       " 'Elien',\n",
       " 'anotherIntern']"
      ]
     },
     "execution_count": 107,
     "metadata": {},
     "output_type": "execute_result"
    }
   ],
   "source": [
    "# use insert to insert at any point in the list\n",
    "interns_list.insert(1, \"anotherInternA\")\n",
    "interns_list"
   ]
  },
  {
   "cell_type": "code",
   "execution_count": 108,
   "id": "09ec1e57-5e25-4dee-8bb6-3b5b5f430655",
   "metadata": {
    "collapsed": true,
    "jupyter": {
     "outputs_hidden": true
    },
    "tags": []
   },
   "outputs": [
    {
     "data": {
      "text/plain": [
       "['Shrina',\n",
       " 'anotherInternA',\n",
       " 'Presil',\n",
       " 'Cabriel',\n",
       " 'Jenifer',\n",
       " 'Elien',\n",
       " 'anotherIntern',\n",
       " 'Nema',\n",
       " 'Raymond',\n",
       " 'Rosy',\n",
       " 'Cedric']"
      ]
     },
     "execution_count": 108,
     "metadata": {},
     "output_type": "execute_result"
    }
   ],
   "source": [
    "# use extend to add a list or \n",
    "newlist = [\"Nema\",\"Raymond\"]\n",
    "newtupple = (\"Rosy\",\"Cedric\")\n",
    "interns_list.extend(newlist)\n",
    "interns_list.extend(newtupple)\n",
    "interns_list"
   ]
  },
  {
   "cell_type": "markdown",
   "id": "cb02b326-f469-4fc5-876d-f6481a3c7412",
   "metadata": {},
   "source": [
    "### Adding items to and removing items from list \n",
    "* remove()\n",
    "* pop()\n",
    "* del()"
   ]
  },
  {
   "cell_type": "code",
   "execution_count": 109,
   "id": "957d38c1-7edb-421d-8fc9-3d6fb374994e",
   "metadata": {
    "tags": []
   },
   "outputs": [
    {
     "data": {
      "text/plain": [
       "['Shrina', 'Presil', 'Cabriel', 'Jenifer', 'Elien', 'anotherIntern']"
      ]
     },
     "execution_count": 109,
     "metadata": {},
     "output_type": "execute_result"
    }
   ],
   "source": [
    "interns_list.remove(\"Raymond\")\n",
    "interns_list.remove(\"Nema\")\n",
    "interns_list.pop()\n",
    "interns_list.pop(1)\n",
    "del interns_list[-1]\n",
    "\n",
    "interns_list"
   ]
  },
  {
   "cell_type": "markdown",
   "id": "edf42551-b4c2-437d-ae80-f79704fc35b2",
   "metadata": {},
   "source": [
    "### Looping and List Comprehension"
   ]
  },
  {
   "cell_type": "code",
   "execution_count": 111,
   "id": "6e178dfe-a0df-4c3f-be43-6879174709d3",
   "metadata": {
    "collapsed": true,
    "jupyter": {
     "outputs_hidden": true
    },
    "tags": []
   },
   "outputs": [
    {
     "name": "stdout",
     "output_type": "stream",
     "text": [
      "Shrina\n",
      "Presil\n",
      "we reached Cabriel\n",
      "Jenifer\n",
      "Elien\n",
      "anotherIntern\n"
     ]
    }
   ],
   "source": [
    "for x in interns_list:\n",
    "    if \"Cabriel\" in x:\n",
    "        print(\"we reached Cabriel\")\n",
    "    else:\n",
    "        print(x)"
   ]
  },
  {
   "cell_type": "markdown",
   "id": "59a69cc9-a470-4ab4-a28b-d70ab83c754a",
   "metadata": {},
   "source": [
    "### List Comprehension\n",
    "#### newlist = [expression for item in iterable if condition == True]"
   ]
  },
  {
   "cell_type": "code",
   "execution_count": 114,
   "id": "240cf3df-2f71-4743-9b49-790353fb334d",
   "metadata": {},
   "outputs": [
    {
     "data": {
      "text/plain": [
       "['Shrina', 'Presil', 'Cabriel', 'Jenifer', 'Elien']"
      ]
     },
     "execution_count": 114,
     "metadata": {},
     "output_type": "execute_result"
    }
   ],
   "source": [
    "new_interns_list = [x for x in interns_list if \"Intern\" not in x]\n",
    "new_interns_list"
   ]
  },
  {
   "cell_type": "code",
   "execution_count": null,
   "id": "42de0556-3a60-4859-af7c-6d34d2f87be9",
   "metadata": {},
   "outputs": [],
   "source": []
  },
  {
   "cell_type": "markdown",
   "id": "9a30ea33-4448-406a-80eb-afe7c9de3a18",
   "metadata": {},
   "source": [
    "## 2. Tupples"
   ]
  },
  {
   "cell_type": "code",
   "execution_count": 115,
   "id": "de736144-126c-4b7e-81e6-8ec0e6ab4ab4",
   "metadata": {},
   "outputs": [
    {
     "data": {
      "text/plain": [
       "('Jenifer',)"
      ]
     },
     "metadata": {},
     "output_type": "display_data"
    },
    {
     "data": {
      "text/plain": [
       "('Jenifer', 'Shrina', 'Presil')"
      ]
     },
     "metadata": {},
     "output_type": "display_data"
    }
   ],
   "source": [
    "intern_tuple = (\"Jenifer\",)\n",
    "interns_tuple = (\"Jenifer\",\"Shrina\", 'Presil')\n",
    "\n",
    "display(intern_tuple)\n",
    "display(interns_tuple)"
   ]
  },
  {
   "cell_type": "code",
   "execution_count": 116,
   "id": "9d5331c0-c869-4d95-b834-f2dba9560c29",
   "metadata": {},
   "outputs": [
    {
     "name": "stdout",
     "output_type": "stream",
     "text": [
      "Jenifer\n",
      "Shrina\n",
      "Presil\n"
     ]
    }
   ],
   "source": [
    "# Upack tupple\n",
    "\n",
    "Jeni, Shrina, Presil = interns_tuple\n",
    "print(Jeni)\n",
    "print(Shrina)\n",
    "print(Presil)"
   ]
  },
  {
   "cell_type": "markdown",
   "id": "316ea540-95eb-4329-b4cf-f4568a1a58b7",
   "metadata": {},
   "source": [
    "## 3. Sets"
   ]
  },
  {
   "cell_type": "markdown",
   "id": "51a02d3e-48d9-4269-8121-1e9c5569cc7d",
   "metadata": {},
   "source": [
    "## 4. Dictionaries"
   ]
  },
  {
   "cell_type": "code",
   "execution_count": 121,
   "id": "62efdb2b-d64d-4ae4-8400-aac6e86f3503",
   "metadata": {},
   "outputs": [
    {
     "name": "stdout",
     "output_type": "stream",
     "text": [
      "{'name': 'Nema', 'gender': 'female', 'is_married': False, 'birth_month': 11}\n",
      "My name is: Nema\n",
      "Is she Male or Female: female\n",
      "The keys in the dictionary are: dict_keys(['name', 'gender', 'is_married', 'birth_month'])\n",
      "List of values: dict_values(['Nema', 'female', False, 11])\n",
      "\n",
      " Updated Dictionary:\n"
     ]
    },
    {
     "data": {
      "text/plain": [
       "{'name': 'Nema',\n",
       " 'gender': 'female',\n",
       " 'is_married': False,\n",
       " 'birth_month': 11,\n",
       " 'favorite_food': 'Fufu corn and Vegetable'}"
      ]
     },
     "metadata": {},
     "output_type": "display_data"
    },
    {
     "name": "stdout",
     "output_type": "stream",
     "text": [
      "\n",
      " dict_items([('name', 'Nema'), ('gender', 'female'), ('is_married', False), ('birth_month', 11), ('favorite_food', 'Fufu corn and Vegetable')])\n"
     ]
    }
   ],
   "source": [
    "mydict = {\n",
    "    \"name\":\"Nema\",\n",
    "    \"gender\":\"female\",\n",
    "    \"is_married\": False,\n",
    "    \"birth_month\": 11\n",
    "}## Getting and Setting data types data types\n",
    "\n",
    "print(mydict)\n",
    "print(f\"My name is: {mydict['name']}\")\n",
    "print(f\"Is she Male or Female: {mydict.get('gender')}\")\n",
    "print(f\"The keys in the dictionary are: {mydict.keys()}\")\n",
    "print(f\"List of values: {mydict.values()}\")\n",
    "\n",
    "# adding a new item\n",
    "\n",
    "mydict[\"favorite_food\"] = \"Fufu corn and Vegetable\"\n",
    "print(\"\\n Updated Dictionary:\")\n",
    "display(mydict)\n",
    "print(f\"\\n {mydict.items()}\")"
   ]
  },
  {
   "cell_type": "code",
   "execution_count": 122,
   "id": "ce133339-d6e9-46bf-8ba9-3657a0881b6b",
   "metadata": {},
   "outputs": [
    {
     "data": {
      "text/plain": [
       "{'name': 'Nema Dede',\n",
       " 'gender': 'female',\n",
       " 'is_married': False,\n",
       " 'birth_month': 11,\n",
       " 'favorite_food': 'Fufu corn and Vegetable'}"
      ]
     },
     "execution_count": 122,
     "metadata": {},
     "output_type": "execute_result"
    }
   ],
   "source": [
    "# updating element\n",
    "mydict.update({\"name\":\"Nema Dede\"})\n",
    "\n",
    "mydict"
   ]
  },
  {
   "cell_type": "code",
   "execution_count": 125,
   "id": "a4e889d8-2412-448d-bc4a-cc3531a13600",
   "metadata": {},
   "outputs": [
    {
     "data": {
      "text/plain": [
       "{'name': 'Nema Dede', 'gender': 'female'}"
      ]
     },
     "execution_count": 125,
     "metadata": {},
     "output_type": "execute_result"
    }
   ],
   "source": [
    "# delete item\n",
    "\n",
    "mydict.popitem() # Pop the last item\n",
    "mydict.pop(\"birth_month\")\n",
    "del mydict[\"is_married\"]\n",
    "\n",
    "mydict"
   ]
  },
  {
   "cell_type": "code",
   "execution_count": 127,
   "id": "53e65814-6e47-4b6c-a360-bb371b1f0c94",
   "metadata": {},
   "outputs": [
    {
     "name": "stdout",
     "output_type": "stream",
     "text": [
      "Values\n",
      "Nema Dede\n",
      "female\n",
      "\n",
      "Keys\n",
      "name\n",
      "gender\n",
      "\n",
      "Key and Value\n",
      "name -> Nema Dede\n",
      "gender -> female\n"
     ]
    }
   ],
   "source": [
    "# Looping through dictionaries\n",
    "\n",
    "print(\"Values\")\n",
    "for value in mydict.values():\n",
    "    print(value)\n",
    "\n",
    "print(\"\\nKeys\")\n",
    "for key in mydict.keys():\n",
    "    print(key)\n",
    "\n",
    "print(\"\\nKey and Value\")\n",
    "for key,value in mydict.items():\n",
    "    print(f\"{key} -> {value}\")"
   ]
  },
  {
   "cell_type": "code",
   "execution_count": null,
   "id": "7dd0dd73-9796-4a29-8d28-e6b867e9866b",
   "metadata": {},
   "outputs": [],
   "source": []
  },
  {
   "cell_type": "code",
   "execution_count": 129,
   "id": "4ef1eb02-26ba-40f8-9e9a-97d6bbee47dc",
   "metadata": {},
   "outputs": [
    {
     "data": {
      "text/plain": [
       "str"
      ]
     },
     "metadata": {},
     "output_type": "display_data"
    },
    {
     "data": {
      "text/plain": [
       "str"
      ]
     },
     "metadata": {},
     "output_type": "display_data"
    },
    {
     "data": {
      "text/plain": [
       "list"
      ]
     },
     "metadata": {},
     "output_type": "display_data"
    },
    {
     "data": {
      "text/plain": [
       "tuple"
      ]
     },
     "metadata": {},
     "output_type": "display_data"
    },
    {
     "data": {
      "text/plain": [
       "dict"
      ]
     },
     "metadata": {},
     "output_type": "display_data"
    }
   ],
   "source": [
    "# Checking Variable Types\n",
    "\n",
    "display(type(x))\n",
    "display(type(string_a))\n",
    "display(type(interns_list))\n",
    "display(type(interns_tuple))\n",
    "display(type(mydict))"
   ]
  },
  {
   "cell_type": "markdown",
   "id": "5c4538b7-22fd-40e3-a618-100882e49876",
   "metadata": {},
   "source": [
    "## Python Operators"
   ]
  },
  {
   "cell_type": "markdown",
   "id": "ce83fb30-698c-4641-a4e0-5411ea0d25af",
   "metadata": {},
   "source": [
    "### Arithmatic and Assignment Operators"
   ]
  },
  {
   "cell_type": "markdown",
   "id": "707ff616-5210-4992-aad7-aae7a8eb2cdd",
   "metadata": {},
   "source": [
    "`+\tAddition\tx + y`<br>\n",
    "`-\tSubtraction\tx - y`<br>\n",
    "`*\tMultiplication\tx * y`<br>\n",
    "`/\tDivision\tx / y`<br>\n",
    "`%\tModulus\tx % y`<br>\n",
    "`**\tExponentiation\tx ** y`<br>\n",
    "`//\tFloor division\tx // y`<br>"
   ]
  },
  {
   "cell_type": "code",
   "execution_count": null,
   "id": "baad0ff7-2556-45cc-acd9-abb0cbb14e84",
   "metadata": {},
   "outputs": [],
   "source": [
    "Assignment -> Check out Different Assignment Operators"
   ]
  },
  {
   "cell_type": "markdown",
   "id": "638dc3a1-9eca-4610-b9e3-1fcc78be4765",
   "metadata": {},
   "source": [
    "## Sources and for more info\n",
    "\n",
    "[W3school](https://www.w3schools.com/python/default.asp)"
   ]
  },
  {
   "cell_type": "markdown",
   "id": "5e1fe5d8-4cee-4fd7-9619-036c295135d7",
   "metadata": {},
   "source": [
    "<h1 style=\"color:red;\"><b> Conditional Statements and Loops"
   ]
  },
  {
   "cell_type": "code",
   "execution_count": null,
   "id": "66a4d6ee-fa65-4b09-aa94-c0a9cde0fae6",
   "metadata": {
    "jupyter": {
     "source_hidden": true
    },
    "tags": []
   },
   "outputs": [],
   "source": []
  },
  {
   "cell_type": "code",
   "execution_count": null,
   "id": "e1ba68ff-70b3-4fea-8b41-5420d20e6302",
   "metadata": {
    "jupyter": {
     "source_hidden": true
    },
    "tags": []
   },
   "outputs": [],
   "source": []
  }
 ],
 "metadata": {
  "kernelspec": {
   "display_name": "Python 3 (ipykernel)",
   "language": "python",
   "name": "python3"
  },
  "language_info": {
   "codemirror_mode": {
    "name": "ipython",
    "version": 3
   },
   "file_extension": ".py",
   "mimetype": "text/x-python",
   "name": "python",
   "nbconvert_exporter": "python",
   "pygments_lexer": "ipython3",
   "version": "3.9.12"
  }
 },
 "nbformat": 4,
 "nbformat_minor": 5
}
